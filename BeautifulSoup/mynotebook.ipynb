{
 "cells": [
  {
   "cell_type": "code",
   "execution_count": 1,
   "metadata": {},
   "outputs": [
    {
     "name": "stdout",
     "output_type": "stream",
     "text": [
      "Requirement already satisfied: requests in c:\\wk\\tool\\python\\python38\\lib\\site-packages (2.26.0)\n",
      "Requirement already satisfied: certifi>=2017.4.17 in c:\\wk\\tool\\python\\python38\\lib\\site-packages (from requests) (2021.10.8)\n",
      "Requirement already satisfied: urllib3<1.27,>=1.21.1 in c:\\wk\\tool\\python\\python38\\lib\\site-packages (from requests) (1.26.7)\n",
      "Requirement already satisfied: idna<4,>=2.5 in c:\\wk\\tool\\python\\python38\\lib\\site-packages (from requests) (3.2)\n",
      "Requirement already satisfied: charset-normalizer~=2.0.0 in c:\\wk\\tool\\python\\python38\\lib\\site-packages (from requests) (2.0.7)\n",
      "Requirement already satisfied: BeautifulSoup4 in c:\\wk\\tool\\python\\python38\\lib\\site-packages (4.10.0)\n",
      "Requirement already satisfied: soupsieve>1.2 in c:\\wk\\tool\\python\\python38\\lib\\site-packages (from BeautifulSoup4) (2.3)\n"
     ]
    }
   ],
   "source": [
    "!pip install requests\n",
    "!pip install BeautifulSoup4"
   ]
  },
  {
   "cell_type": "code",
   "execution_count": 2,
   "metadata": {},
   "outputs": [],
   "source": [
    "import requests\n",
    "from bs4 import BeautifulSoup"
   ]
  },
  {
   "cell_type": "code",
   "execution_count": 26,
   "metadata": {},
   "outputs": [
    {
     "name": "stdout",
     "output_type": "stream",
     "text": [
      "2021-11-24 14:13:24.633549\n"
     ]
    }
   ],
   "source": [
    "#url = 'https://www.google.com/search?q=Google&oq=Google&aqs=chrome..69i57j69i60j69i65l3j69i60l3.3147j0j4&sourceid=chrome&ie=UTF-8'\n",
    "url = 'https://k-tai.watch.impress.co.jp/docs/column/minna/1368082.html'\n",
    "res = requests.get(url)\n",
    "\n",
    "import datetime\n",
    "ut = datetime.datetime.now()\n",
    "print(ut)"
   ]
  },
  {
   "cell_type": "code",
   "execution_count": null,
   "metadata": {},
   "outputs": [],
   "source": []
  },
  {
   "cell_type": "code",
   "execution_count": 4,
   "metadata": {},
   "outputs": [
    {
     "data": {
      "text/plain": [
       "<Response [200]>"
      ]
     },
     "execution_count": 4,
     "metadata": {},
     "output_type": "execute_result"
    }
   ],
   "source": [
    "res"
   ]
  },
  {
   "cell_type": "code",
   "execution_count": 27,
   "metadata": {},
   "outputs": [],
   "source": [
    "#res.text\n",
    "#soup = BeautifulSoup( res.text, 'html.parser' )\n",
    "# contentとした方が文字化けしにくい、らしい？\n",
    "soup = BeautifulSoup( res.content, 'html.parser' )\n",
    "\n",
    "# 内容を出力\n",
    "#soup\n",
    "# 内容を出力(より奇麗に)\n",
    "#soup.prettify()"
   ]
  },
  {
   "cell_type": "code",
   "execution_count": 6,
   "metadata": {},
   "outputs": [],
   "source": [
    "#subscribers = soup.find_all('td')\n",
    "#print(subscribers)"
   ]
  },
  {
   "cell_type": "code",
   "execution_count": 30,
   "metadata": {},
   "outputs": [],
   "source": [
    "#soup.select_one('.classname')\n",
    "# 値を取る\n",
    "#soup.find('div')\n",
    "#soup.div\n",
    "#soup.div.text\n",
    "\n",
    "#type(soup.find_all('div'))\n",
    "#soup.find_all('p')[1]\n",
    "#type(subscribers)\n",
    "#ilen = len(subscribers)\n",
    "#subscribers[4].prettify()\n",
    "#subscribers = soup.find_all('div', attrs={'class': 'yuRUbf'})\n",
    "subscribers = soup.find_all('div')#, attrs={'class': 'yuRUbf'})\n",
    "\n",
    "#import json\n",
    "\n",
    "mylist = []\n",
    "\n",
    "for sub in subscribers:\n",
    "  sublist = []\n",
    "  #st = ''\n",
    "  # time\n",
    "  sublist.append(ut)\n",
    "  sublist.append(sub)\n",
    "  \n",
    "  #sublist.append(sub.find('a').text)\n",
    "  mylist.append(sublist)\n",
    "\n",
    "# 出力（確認用）\n",
    "#for jlist in mylist:\n",
    "#  print(jlist)\n"
   ]
  },
  {
   "cell_type": "code",
   "execution_count": null,
   "metadata": {},
   "outputs": [],
   "source": [
    "# 重複行を削除したい\n",
    "#unique_set = set(mylist[0])\n",
    "#unique_list= list(unique_set)\n",
    "#unique_list\n",
    "#arr = list(map(list,set(map(tuple, mylist))))\n",
    "#mylist\n",
    "#def get_unique_list(seq):\n",
    "#  seen = []\n",
    "#  return [x for x in seq if x not in seen and not seen.append(x)]\n",
    "#\n",
    "#def get_duplicate_list(seq):\n",
    "#  seen = []\n",
    "#  return [x for x in seq if x not in seen and not seen.count(x) == 2]\n",
    "#\n",
    "#def get_duplicate_list_order(seq):\n",
    "#  seen = {}\n",
    "#  return [x for x in seq if seq.count(x) > 1 and not seen.append(x) and seen.count(x) == 1]\n",
    "#\n",
    "#print(get_unique_list(mylist))\n",
    "#print(get_duplicate_list(mylist))"
   ]
  },
  {
   "cell_type": "code",
   "execution_count": 31,
   "metadata": {},
   "outputs": [],
   "source": [
    "# 出力（確認用）\n",
    "#for jlist in mylist:\n",
    "#  print(jlist)\n",
    "\n",
    "# CSV\n",
    "#import csv\n",
    "#import pprint\n",
    "#\n",
    "#with open('data/file.csv') as f:\n",
    "#  print(f,read())\n",
    "\n",
    "import csv\n",
    "with open('files.csv', 'a', newline='', encoding='UTF-8') as stfile:\n",
    "  writer = csv.writer(stfile)\n",
    "  for jlist in mylist:\n",
    "    writer.writerow(jlist)\n",
    "  #writer.writerow(mylist)\n",
    "  #f = open('file.csv')\n",
    "  #data = jlist\n",
    "  #writer = csv.writer(f)\n",
    "  #writer.writerow(data)あaA\n",
    "  #f.close()\n",
    "\n"
   ]
  }
 ],
 "metadata": {
  "interpreter": {
   "hash": "e6902b14ba142c1412a97ed0c94d8a43080ec91307761cd2fa531fe746f00116"
  },
  "kernelspec": {
   "display_name": "Python 3.8.5 64-bit",
   "name": "python3"
  },
  "language_info": {
   "codemirror_mode": {
    "name": "ipython",
    "version": 3
   },
   "file_extension": ".py",
   "mimetype": "text/x-python",
   "name": "python",
   "nbconvert_exporter": "python",
   "pygments_lexer": "ipython3",
   "version": "3.8.5"
  },
  "orig_nbformat": 4
 },
 "nbformat": 4,
 "nbformat_minor": 2
}
